{
 "cells": [
  {
   "cell_type": "code",
   "execution_count": 16,
   "metadata": {},
   "outputs": [],
   "source": [
    "import pandas as pd\n",
    "import os"
   ]
  },
  {
   "cell_type": "code",
   "execution_count": 17,
   "metadata": {},
   "outputs": [],
   "source": [
    "data_folder = 'data'\n",
    "clean_data_folder = 'clean_data'"
   ]
  },
  {
   "cell_type": "code",
   "execution_count": 18,
   "metadata": {},
   "outputs": [],
   "source": [
    "routes = ['convention', 'washington', 'sts']"
   ]
  },
  {
   "cell_type": "code",
   "execution_count": 19,
   "metadata": {},
   "outputs": [],
   "source": [
    "filter = dict()\n",
    "filter['convention'] = dict()\n",
    "filter['convention']['arc_id'] = 5671 \n",
    "\n",
    "filter['sts'] = dict()\n",
    "filter['sts']['arc_id'] = 191\n",
    "\n",
    "filter['washington'] = dict()\n",
    "filter['washington']['arc_id'] = 4264"
   ]
  },
  {
   "cell_type": "code",
   "execution_count": 20,
   "metadata": {},
   "outputs": [
    {
     "name": "stdout",
     "output_type": "stream",
     "text": [
      "['convention', 'washington', 'sts']\n"
     ]
    }
   ],
   "source": [
    "print(routes)"
   ]
  },
  {
   "cell_type": "code",
   "execution_count": 21,
   "metadata": {},
   "outputs": [],
   "source": [
    "for route in routes:        \n",
    "    data = pd.read_csv(os.path.join(data_folder, os.path.join(route, route + '.csv')), delimiter=';').drop(columns=[\"Libelle\", \"Etat trafic\", \"Identifiant noeud amont\", \"Libelle noeud amont\", \"Identifiant noeud aval\", \"Libelle noeud aval\", \"Etat arc\", \"Date debut dispo data\", \"Date fin dispo data\", \"geo_point_2d\", \"geo_shape\"])\n",
    "    data = data[data['Identifiant arc'] == filter[route]['arc_id']]\n",
    "\n",
    "    data['Date et heure de comptage'] = data['Date et heure de comptage'].astype(str).apply(lambda x : x[:-6])\n",
    "    data.to_csv(os.path.join(clean_data_folder, os.path.join(route, route + '.csv')), index=False)"
   ]
  },
  {
   "cell_type": "markdown",
   "metadata": {},
   "source": [
    "opendata_folder = 'opendata'\n",
    "clean_opendata_folder = 'clean_opendata'\n",
    "years = ['2016', '2017', '2018', '2019']"
   ]
  },
  {
   "cell_type": "markdown",
   "metadata": {},
   "source": [
    "for route in routes:\n",
    "    data = pd.read_csv(os.path.join(clean_data_folder, os.path.join(route, route + '.csv')))\n",
    "    data['datetime'] = pd.to_datetime(data['Date et heure de comptage'])\n",
    "    data = data[data['datetime'].dt.year == 2020]\n",
    "    data = data.drop(columns=['datetime'])\n",
    "    \n",
    "    data.to_csv(os.path.join(clean_opendata_folder, os.path.join(\"2020\", route + '.csv')), index=False)"
   ]
  },
  {
   "cell_type": "markdown",
   "metadata": {},
   "source": [
    "for year in years:\n",
    "    print(\" [.] Working on year\", year)\n",
    "    routes_filtered = dict()\n",
    "    for route in routes:\n",
    "        routes_filtered[route] = pd.DataFrame()\n",
    "    files = os.listdir(os.path.join(opendata_folder, year))\n",
    "    for file in sorted(files):\n",
    "        print(\" [.][.] Working on file\", file)\n",
    "        week_data = pd.read_csv(os.path.join(opendata_folder, os.path.join(year, file)), delimiter=';').drop(columns=[\"dessin\", \"libelle\", \"iu_nd_amont\", \"libelle_nd_amont\", \"iu_nd_aval\", \"libelle_nd_aval\", \"etat_trafic\", \"etat_barre\"])\n",
    "        week_data = week_data.rename(columns={\"iu_ac\": \"Identifiant arc\", \"q\" : \"Débit horaire\", \"k\": \"Taux d'occupation\", \"t_1h\" : \"Date et heure de comptage\"})\n",
    "        for route in routes:\n",
    "            filtered_data = week_data[week_data['Identifiant arc'] == filter[route]['arc_id']]\n",
    "            routes_filtered[route] = routes_filtered[route].append(filtered_data)\n",
    "            \n",
    "    for route in routes:\n",
    "        routes_filtered[route].to_csv(os.path.join(clean_opendata_folder, os.path.join(year, route + \".csv\")), index=False)"
   ]
  }
 ],
 "metadata": {
  "kernelspec": {
   "display_name": "Python [conda env:root] *",
   "language": "python",
   "name": "conda-root-py"
  },
  "language_info": {
   "codemirror_mode": {
    "name": "ipython",
    "version": 3
   },
   "file_extension": ".py",
   "mimetype": "text/x-python",
   "name": "python",
   "nbconvert_exporter": "python",
   "pygments_lexer": "ipython3",
   "version": "3.8.3"
  }
 },
 "nbformat": 4,
 "nbformat_minor": 4
}
